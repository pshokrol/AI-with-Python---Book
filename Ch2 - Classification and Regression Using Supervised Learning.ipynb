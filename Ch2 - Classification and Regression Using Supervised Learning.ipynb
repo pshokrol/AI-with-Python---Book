{
 "cells": [
  {
   "cell_type": "code",
   "execution_count": 1,
   "metadata": {},
   "outputs": [],
   "source": [
    "import numpy as np\n",
    "from sklearn import preprocessing"
   ]
  },
  {
   "cell_type": "code",
   "execution_count": 5,
   "metadata": {},
   "outputs": [],
   "source": [
    "input_data = np.array([[5.1, -2.9, 3.3],[-1.2, 7.8, -6.1],[3.9,0.4,2.1],[7.3,-9.9,-4.5]])"
   ]
  },
  {
   "cell_type": "code",
   "execution_count": 6,
   "metadata": {},
   "outputs": [
    {
     "name": "stdout",
     "output_type": "stream",
     "text": [
      "\n",
      "Binarized data:\n",
      " [[1. 0. 1.]\n",
      " [0. 1. 0.]\n",
      " [1. 0. 0.]\n",
      " [1. 0. 0.]]\n"
     ]
    }
   ],
   "source": [
    "# Binarize Data\n",
    "data_binarized = preprocessing.Binarizer(threshold=2.1).transform(input_data)\n",
    "print(\"\\nBinarized data:\\n\", data_binarized)"
   ]
  },
  {
   "cell_type": "code",
   "execution_count": 7,
   "metadata": {},
   "outputs": [
    {
     "name": "stdout",
     "output_type": "stream",
     "text": [
      "mean =  [ 3.775 -1.15  -1.3  ]\n",
      "Std =  [3.12039661 6.36651396 4.0620192 ]\n"
     ]
    }
   ],
   "source": [
    "# Prit mean and standard deviation\n",
    "print('mean = ', input_data.mean(axis=0))\n",
    "print('Std = ', input_data.std(axis=0))"
   ]
  },
  {
   "cell_type": "code",
   "execution_count": 9,
   "metadata": {},
   "outputs": [
    {
     "name": "stdout",
     "output_type": "stream",
     "text": [
      "mean =  [1.11022302e-16 0.00000000e+00 2.77555756e-17]\n",
      "std =  [1. 1. 1.]\n"
     ]
    }
   ],
   "source": [
    "#Remove mean\n",
    "data_scaled = preprocessing.scale(input_data)\n",
    "print('mean = ', data_scaled.mean(axis=0))\n",
    "print('std = ', data_scaled.std(axis=0))"
   ]
  },
  {
   "cell_type": "code",
   "execution_count": 15,
   "metadata": {},
   "outputs": [
    {
     "name": "stdout",
     "output_type": "stream",
     "text": [
      "\n",
      " Min max scaled data:\n",
      " [[0.74117647 0.39548023 1.        ]\n",
      " [0.         1.         0.        ]\n",
      " [0.6        0.5819209  0.87234043]\n",
      " [1.         0.         0.17021277]]\n"
     ]
    }
   ],
   "source": [
    "# min max scaling\n",
    "data_scaler_minmax = preprocessing.MinMaxScaler(feature_range=(0, 1))\n",
    "data_scaled_minmax = data_scaler_minmax.fit_transform(input_data)\n",
    "print('\\n Min max scaled data:\\n', data_scaled_minmax)"
   ]
  },
  {
   "cell_type": "code",
   "execution_count": 16,
   "metadata": {},
   "outputs": [
    {
     "name": "stdout",
     "output_type": "stream",
     "text": [
      "\n",
      "L1 Normalized Data =  [[ 0.45132743 -0.25663717  0.2920354 ]\n",
      " [-0.0794702   0.51655629 -0.40397351]\n",
      " [ 0.609375    0.0625      0.328125  ]\n",
      " [ 0.33640553 -0.4562212  -0.20737327]]\n",
      "\n",
      "L2 Normalized Data =  [[ 0.75765788 -0.43082507  0.49024922]\n",
      " [-0.12030718  0.78199664 -0.61156148]\n",
      " [ 0.87690281  0.08993875  0.47217844]\n",
      " [ 0.55734935 -0.75585734 -0.34357152]]\n"
     ]
    }
   ],
   "source": [
    "data_normalized_l1 = preprocessing.normalize(input_data, norm = 'l1')\n",
    "data_normalized_l2 = preprocessing.normalize(input_data, norm = 'l2')\n",
    "print('\\nL1 Normalized Data = ', data_normalized_l1)\n",
    "print('\\nL2 Normalized Data = ', data_normalized_l2)"
   ]
  },
  {
   "cell_type": "code",
   "execution_count": 18,
   "metadata": {},
   "outputs": [],
   "source": [
    " # Label Encoding"
   ]
  },
  {
   "cell_type": "code",
   "execution_count": 23,
   "metadata": {},
   "outputs": [
    {
     "name": "stdout",
     "output_type": "stream",
     "text": [
      "\n",
      "Label Mapping: \n",
      "black --> 0\n",
      "green --> 1\n",
      "red --> 2\n",
      "white --> 3\n",
      "yellow --> 4\n"
     ]
    }
   ],
   "source": [
    "import numpy as np\n",
    "from sklearn import preprocessing\n",
    "# Sample input labels\n",
    "input_labels = ['red','black','red','green','black','yellow','white']\n",
    "# Create label encoder and fit the labels\n",
    "encoder = preprocessing.LabelEncoder()\n",
    "encoder.fit(input_labels)\n",
    "# Print the mapping \n",
    "print('\\nLabel Mapping: ')\n",
    "for i, item in enumerate(encoder.classes_):\n",
    "    print(item, '-->', i)"
   ]
  },
  {
   "cell_type": "code",
   "execution_count": 25,
   "metadata": {},
   "outputs": [
    {
     "name": "stdout",
     "output_type": "stream",
     "text": [
      "\n",
      "Labels = ['green', 'red', 'black']\n",
      "\n",
      " Encoder values =  [1, 2, 0]\n"
     ]
    }
   ],
   "source": [
    "#encode a set of labels using the encoder\n",
    "test_labels = ['green', 'red', 'black']\n",
    "encoded_values = encoder.transform(test_labels)\n",
    "print(\"\\nLabels =\", test_labels)\n",
    "print('\\n Encoder values = ', list(encoded_values))"
   ]
  },
  {
   "cell_type": "code",
   "execution_count": 30,
   "metadata": {},
   "outputs": [
    {
     "name": "stdout",
     "output_type": "stream",
     "text": [
      "\n",
      "Encoded values =  [3, 0, 4, 1]\n",
      "\n",
      "Decoded labels =  ['white', 'black', 'yellow', 'green']\n"
     ]
    }
   ],
   "source": [
    "# Decode a set of values using encoder\n",
    "encoded_values = [3,0,4,1]\n",
    "decoded_list = encoder.inverse_transform(encoded_values)\n",
    "print('\\nEncoded values = ', encoded_values)\n",
    "print('\\nDecoded labels = ', list(decoded_list))"
   ]
  },
  {
   "cell_type": "code",
   "execution_count": null,
   "metadata": {},
   "outputs": [],
   "source": [
    "# Logistic Regression"
   ]
  },
  {
   "cell_type": "code",
   "execution_count": 147,
   "metadata": {},
   "outputs": [],
   "source": [
    "import tkinter\n",
    "from tkinter import *"
   ]
  },
  {
   "cell_type": "code",
   "execution_count": 148,
   "metadata": {},
   "outputs": [],
   "source": [
    "import numpy as np\n",
    "from sklearn import linear_model\n",
    "import matplotlib.pyplot as plt"
   ]
  },
  {
   "cell_type": "code",
   "execution_count": 149,
   "metadata": {},
   "outputs": [],
   "source": [
    "# utilities.py imported from chpater 2 of the book (Artificial Intelligence with Python)\n",
    "import numpy as np\n",
    "import matplotlib.pyplot as plt\n",
    "\n",
    "def visualize_classifier(classifier, X, y):\n",
    "    # Define the minimum and maximum values for X and Y\n",
    "    # that will be used in the mesh grid\n",
    "    min_x, max_x = X[:, 0].min() - 1.0, X[:, 0].max() + 1.0\n",
    "    min_y, max_y = X[:, 1].min() - 1.0, X[:, 1].max() + 1.0\n",
    "\n",
    "    # Define the step size to use in plotting the mesh grid \n",
    "    mesh_step_size = 0.01\n",
    "\n",
    "    # Define the mesh grid of X and Y values\n",
    "    x_vals, y_vals = np.meshgrid(np.arange(min_x, max_x, mesh_step_size), np.arange(min_y, max_y, mesh_step_size))\n",
    "\n",
    "    # Run the classifier on the mesh grid\n",
    "    output = classifier.predict(np.c_[x_vals.ravel(), y_vals.ravel()])\n",
    "\n",
    "    # Reshape the output array\n",
    "    output = output.reshape(x_vals.shape)\n",
    "\n",
    "    # Create a plot\n",
    "    plt.figure()\n",
    "\n",
    "    # Choose a color scheme for the plot \n",
    "    plt.pcolormesh(x_vals, y_vals, output, cmap=plt.cm.gray)\n",
    "\n",
    "    # Overlay the training points on the plot \n",
    "    plt.scatter(X[:, 0], X[:, 1], c=y, s=75, edgecolors='black', linewidth=1, cmap=plt.cm.Paired)\n",
    "\n",
    "    # Specify the boundaries of the plot\n",
    "    plt.xlim(x_vals.min(), x_vals.max())\n",
    "    plt.ylim(y_vals.min(), y_vals.max())\n",
    "\n",
    "    # Specify the ticks on the X and Y axes\n",
    "    plt.xticks((np.arange(int(X[:, 0].min() - 1), int(X[:, 0].max() + 1), 1.0)))\n",
    "    plt.yticks((np.arange(int(X[:, 1].min() - 1), int(X[:, 1].max() + 1), 1.0)))\n",
    "\n",
    "    plt.show()"
   ]
  },
  {
   "cell_type": "code",
   "execution_count": 41,
   "metadata": {},
   "outputs": [],
   "source": [
    "\n"
   ]
  },
  {
   "cell_type": "code",
   "execution_count": 150,
   "metadata": {},
   "outputs": [],
   "source": [
    "#Define sample input data\n",
    "X = np.array([[3.1, 7.2], [4, 6.7], [2.9,8],[5.1,4.5], [6,5],[5.6, 5],[3.3,4],[3.9,0.9],[2.8,1],[0.5,3.4],[1,4],[0.6,4.9]])\n",
    "y = np.array([0,0,0,1,1,1,2,2,2,3,3,3])"
   ]
  },
  {
   "cell_type": "code",
   "execution_count": 151,
   "metadata": {},
   "outputs": [
    {
     "name": "stderr",
     "output_type": "stream",
     "text": [
      "C:\\Users\\Peyman\\Anaconda3\\lib\\site-packages\\sklearn\\linear_model\\logistic.py:469: FutureWarning: Default multi_class will be changed to 'auto' in 0.22. Specify the multi_class option to silence this warning.\n",
      "  \"this warning.\", FutureWarning)\n"
     ]
    }
   ],
   "source": [
    "#create the logistic regression classifier\n",
    "classifier = linear_model.LogisticRegression(solver='liblinear', C=1).fit(X,y)"
   ]
  },
  {
   "cell_type": "code",
   "execution_count": 70,
   "metadata": {},
   "outputs": [],
   "source": [
    "#train the classifier\n",
    "#classifier.fit(X, y)\n",
    "# This part in the book is wrong because 'classifier' is the result of 'fit' "
   ]
  },
  {
   "cell_type": "code",
   "execution_count": 152,
   "metadata": {},
   "outputs": [
    {
     "data": {
      "image/png": "[encoded data removed]",
      "text/plain": [
       "<Figure size 432x288 with 1 Axes>"
      ]
     },
     "metadata": {
      "needs_background": "light"
     },
     "output_type": "display_data"
    }
   ],
   "source": [
    "#visulaize the perfromance of the classifier\n",
    "visualize_classifier(classifier, X, y)"
   ]
  },
  {
   "cell_type": "code",
   "execution_count": 55,
   "metadata": {},
   "outputs": [],
   "source": [
    "import numpy as np\n",
    "import matplotlib.pyplot as plt"
   ]
  },
  {
   "cell_type": "code",
   "execution_count": 66,
   "metadata": {},
   "outputs": [],
   "source": [
    "def visualize_classifier(classifier, X, y):\n",
    "    #Define the min and max values for X and y \n",
    "    # that will beused in the mesh grid\n",
    "    min_x, max_x = X[:,0].min() - 1.0, X[:,0].max() + 1.0 \n",
    "    min_y, max_y = y[:,1].min() - 1.0, y[:,1].max() + 1.0\n",
    "    \n",
    "    # Define the stepsize to plot the mesh grid\n",
    "    mesh_step_size = 0.01\n",
    "    \n",
    "    # Define the mesh grid of X and y values\n",
    "    x_vals, y_vals = np.meshgrid(np.arange(min_x, max_x, mesh_step_size), np.arange(min_y, max_y, mesh_step_size))\n",
    "    \n",
    "    # Run the calssifier on all points on the grid\n",
    "    output = classifier.predict(np.c_[x_vals.ravel(),y_vals.ravel()])\n",
    "    \n",
    "    # Reshape the output array\n",
    "    output = output.reshape(x_vals.shape)\n",
    "    \n",
    "    # Creat a plot\n",
    "    plt.figure()\n",
    "    \n",
    "    # Choose a color scheme for the plot\n",
    "    plt.pcolormesh(x_vals, y_vals, output, cmap=plt.ca.gray)\n",
    "    \n",
    "    #Overlay the training poist on the plot\n",
    "    plt.scatter(X[:,0], X[:,1], c=y, s = 75, edgecolors = 'black', linewidth = 1, cmap=plt.cm.Paired)\n",
    "    \n",
    "    \n",
    "    # Specify bounderies of the plot\n",
    "    plt.xlim(x_vals.min(), x_vals.max())\n",
    "    plt.xlim(y_vals.min(), y_vals.max())\n",
    "    \n",
    "    # Specify the ticks on the X and y axis\n",
    "    plt.xticks(np.arange(int(X[:,0].min() - 1), int(X[:,0].max() + 1), 1))\n",
    "    plt.xticks(np.arange(int(X[:,1].min() - 1), int(X[:,1].max() + 1), 1))\n",
    "    plt.show\n",
    "    "
   ]
  },
  {
   "cell_type": "code",
   "execution_count": 68,
   "metadata": {},
   "outputs": [
    {
     "ename": "IndexError",
     "evalue": "too many indices for array",
     "output_type": "error",
     "traceback": [
      "\u001b[1;31m---------------------------------------------------------------------------\u001b[0m",
      "\u001b[1;31mIndexError\u001b[0m                                Traceback (most recent call last)",
      "\u001b[1;32m<ipython-input-68-4b83845bb8aa>\u001b[0m in \u001b[0;36m<module>\u001b[1;34m\u001b[0m\n\u001b[1;32m----> 1\u001b[1;33m \u001b[0mvisualize_classifier\u001b[0m\u001b[1;33m(\u001b[0m\u001b[0mclassifier\u001b[0m\u001b[1;33m,\u001b[0m \u001b[0mX\u001b[0m\u001b[1;33m,\u001b[0m \u001b[0my\u001b[0m\u001b[1;33m)\u001b[0m\u001b[1;33m\u001b[0m\u001b[1;33m\u001b[0m\u001b[0m\n\u001b[0m",
      "\u001b[1;32m<ipython-input-66-354567ecc1de>\u001b[0m in \u001b[0;36mvisualize_classifier\u001b[1;34m(classifier, X, y)\u001b[0m\n\u001b[0;32m      3\u001b[0m     \u001b[1;31m# that will beused in the mesh grid\u001b[0m\u001b[1;33m\u001b[0m\u001b[1;33m\u001b[0m\u001b[1;33m\u001b[0m\u001b[0m\n\u001b[0;32m      4\u001b[0m     \u001b[0mmin_x\u001b[0m\u001b[1;33m,\u001b[0m \u001b[0mmax_x\u001b[0m \u001b[1;33m=\u001b[0m \u001b[0mX\u001b[0m\u001b[1;33m[\u001b[0m\u001b[1;33m:\u001b[0m\u001b[1;33m,\u001b[0m\u001b[1;36m0\u001b[0m\u001b[1;33m]\u001b[0m\u001b[1;33m.\u001b[0m\u001b[0mmin\u001b[0m\u001b[1;33m(\u001b[0m\u001b[1;33m)\u001b[0m \u001b[1;33m-\u001b[0m \u001b[1;36m1.0\u001b[0m\u001b[1;33m,\u001b[0m \u001b[0mX\u001b[0m\u001b[1;33m[\u001b[0m\u001b[1;33m:\u001b[0m\u001b[1;33m,\u001b[0m\u001b[1;36m0\u001b[0m\u001b[1;33m]\u001b[0m\u001b[1;33m.\u001b[0m\u001b[0mmax\u001b[0m\u001b[1;33m(\u001b[0m\u001b[1;33m)\u001b[0m \u001b[1;33m+\u001b[0m \u001b[1;36m1.0\u001b[0m\u001b[1;33m\u001b[0m\u001b[1;33m\u001b[0m\u001b[0m\n\u001b[1;32m----> 5\u001b[1;33m     \u001b[0mmin_y\u001b[0m\u001b[1;33m,\u001b[0m \u001b[0mmax_y\u001b[0m \u001b[1;33m=\u001b[0m \u001b[0my\u001b[0m\u001b[1;33m[\u001b[0m\u001b[1;33m:\u001b[0m\u001b[1;33m,\u001b[0m\u001b[1;36m1\u001b[0m\u001b[1;33m]\u001b[0m\u001b[1;33m.\u001b[0m\u001b[0mmin\u001b[0m\u001b[1;33m(\u001b[0m\u001b[1;33m)\u001b[0m \u001b[1;33m-\u001b[0m \u001b[1;36m1.0\u001b[0m\u001b[1;33m,\u001b[0m \u001b[0my\u001b[0m\u001b[1;33m[\u001b[0m\u001b[1;33m:\u001b[0m\u001b[1;33m,\u001b[0m\u001b[1;36m1\u001b[0m\u001b[1;33m]\u001b[0m\u001b[1;33m.\u001b[0m\u001b[0mmax\u001b[0m\u001b[1;33m(\u001b[0m\u001b[1;33m)\u001b[0m \u001b[1;33m+\u001b[0m \u001b[1;36m1.0\u001b[0m\u001b[1;33m\u001b[0m\u001b[1;33m\u001b[0m\u001b[0m\n\u001b[0m\u001b[0;32m      6\u001b[0m \u001b[1;33m\u001b[0m\u001b[0m\n\u001b[0;32m      7\u001b[0m     \u001b[1;31m# Define the stepsize to plot the mesh grid\u001b[0m\u001b[1;33m\u001b[0m\u001b[1;33m\u001b[0m\u001b[1;33m\u001b[0m\u001b[0m\n",
      "\u001b[1;31mIndexError\u001b[0m: too many indices for array"
     ]
    }
   ],
   "source": [
    "visualize_classifier(classifier, X, y)"
   ]
  },
  {
   "cell_type": "code",
   "execution_count": null,
   "metadata": {},
   "outputs": [],
   "source": []
  },
  {
   "cell_type": "code",
   "execution_count": 70,
   "metadata": {},
   "outputs": [],
   "source": [
    "# Naive Bayes Classifier"
   ]
  },
  {
   "cell_type": "code",
   "execution_count": 80,
   "metadata": {},
   "outputs": [],
   "source": [
    "import numpy as np\n",
    "import matplotlib.pyplot as plt\n",
    "from sklearn.naive_bayes import GaussianNB\n",
    "from sklearn.model_selection import cross_validate"
   ]
  },
  {
   "cell_type": "code",
   "execution_count": 175,
   "metadata": {},
   "outputs": [],
   "source": [
    "## First Method - Import\n",
    "\n",
    "import os\n",
    "base_path = \"C:/Users/Peyman/Desktop/Python - Practices/\"\n",
    "data_multivar_nb = \"data_multivar_nb.txt\"\n",
    "path_to_file = os.path.join(base_path, data_multivar_nb)\n",
    "fd = open(path_to_file , 'r')\n",
    "\n",
    "\n",
    "## 2nd Method  - Using 'Open'\n",
    "\n",
    "# 1) First click on Raw\n",
    "# 2) Then, press ctrl+s to save it as .ipynb (Note that you'll have to manually type '.ipynb' after the file name to make this work, as files from GitHub are saved as text files as default.)\n",
    "#    Note that I saved the file as it is not with .ipynb; I don't think it affects the results\n",
    "# 3) Open jupyter notebook\n",
    "# 4) Go to location where you saved .ipynb file\n",
    "# 5) Open file, you will see the code\n",
    "\n",
    "#data_multivar_nb = open(\"C:/Users/Peyman/Desktop/Python - Practices/data_multivar_nb.txt\", 'w')\n"
   ]
  },
  {
   "cell_type": "code",
   "execution_count": null,
   "metadata": {},
   "outputs": [],
   "source": []
  },
  {
   "cell_type": "code",
   "execution_count": 177,
   "metadata": {},
   "outputs": [],
   "source": [
    "# Input file containg data\n",
    "input_file = 'data_multivar_nb.txt'"
   ]
  },
  {
   "cell_type": "code",
   "execution_count": 178,
   "metadata": {},
   "outputs": [],
   "source": [
    "# Load the data from this file\n",
    "data = np.loadtxt(input_file, delimiter=',')\n",
    "\n",
    "X, y = data[:, :-1], data[:,-1]"
   ]
  },
  {
   "cell_type": "code",
   "execution_count": 280,
   "metadata": {},
   "outputs": [
    {
     "name": "stdout",
     "output_type": "stream",
     "text": [
      " Accuracy of Naive Bayes classifier =  99.75 %\n"
     ]
    },
    {
     "data": {
      "image/png": "[encoded data removed]",
      "text/plain": [
       "<Figure size 432x288 with 1 Axes>"
      ]
     },
     "metadata": {
      "needs_background": "light"
     },
     "output_type": "display_data"
    }
   ],
   "source": [
    "# Create naive bayes classifier\n",
    "classifier = GaussianNB()\n",
    "\n",
    "# Train Classifier\n",
    "classifier.fit(X,y)\n",
    "\n",
    "# Prideict the values for training data\n",
    "y_pred =classifier.predict(X) \n",
    "\n",
    "# Compute Accuracy\n",
    "accuracy = 100 * (y==y_pred).sum()/X.shape[0]\n",
    "print(\" Accuracy of Naive Bayes classifier = \", round(accuracy,2), \"%\")\n",
    "\n",
    "# Visulaize the performance of the classifier\n",
    "visualize_classifier(classifier, X, y)\n",
    "\n"
   ]
  },
  {
   "cell_type": "code",
   "execution_count": 282,
   "metadata": {},
   "outputs": [
    {
     "name": "stdout",
     "output_type": "stream",
     "text": [
      "Acuracy of new classifier =  100.0 %\n"
     ]
    }
   ],
   "source": [
    "# Split data into training and testing set\n",
    "\n",
    "import numpy as np\n",
    "from sklearn.model_selection import train_test_split\n",
    "from sklearn import datasets\n",
    "from sklearn import svm\n",
    "\n",
    "# Load the data from this file\n",
    "data = np.loadtxt(input_file, delimiter=',')\n",
    "X, y = data[:, :-1], data[:,-1]\n",
    "\n",
    "# Split Data\n",
    "X_train, X_test, y_train, y_test = train_test_split(X, y, test_size = 0.2, random_state = 3)\n",
    "\n",
    "# Make the classifier\n",
    "classifier_new = GaussianNB()\n",
    "\n",
    "# Apply the classifier to the training set and test it with test set\n",
    "classifier_new.fit(X_train, y_train)\n",
    "y_test_pred = classifier_new.predict(X_test) # y_test_pred is the predicted y_test\n",
    "\n",
    "# Detemining accuracy\n",
    "accuracy = 100 * (y_test == y_test_pred).sum()/X_test.shape[0]\n",
    "print(\"Acuracy of new classifier = \",round(accuracy,2), \"%\")"
   ]
  },
  {
   "cell_type": "code",
   "execution_count": 228,
   "metadata": {},
   "outputs": [
    {
     "ename": "SyntaxError",
     "evalue": "invalid syntax (<ipython-input-228-5c98d0f4349d>, line 5)",
     "output_type": "error",
     "traceback": [
      "\u001b[1;36m  File \u001b[1;32m\"<ipython-input-228-5c98d0f4349d>\"\u001b[1;36m, line \u001b[1;32m5\u001b[0m\n\u001b[1;33m    >>> import numpy as np\u001b[0m\n\u001b[1;37m     ^\u001b[0m\n\u001b[1;31mSyntaxError\u001b[0m\u001b[1;31m:\u001b[0m invalid syntax\n"
     ]
    }
   ],
   "source": [
    "# An exmaple of train_test_split\n",
    "# spliting the data set to 60% training and 40% testing data\n",
    "# [https://scikit-learn.org/stable/modules/cross_validation.html] \n",
    "\n",
    ">>> import numpy as np\n",
    ">>> from sklearn.model_selection import train_test_split\n",
    ">>> from sklearn import datasets\n",
    ">>> from sklearn import svm\n",
    "\n",
    ">>> X, y = datasets.load_iris(return_X_y=True)\n",
    ">>> X.shape, y.shape\n",
    "((150, 4), (150,))\n",
    "\n",
    ">>> X_train, X_test, y_train, y_test = train_test_split(\n",
    "...     X, y, test_size=0.4, random_state=0)\n",
    "\n",
    ">>> X_train.shape, y_train.shape\n",
    "((90, 4), (90,))"
   ]
  },
  {
   "cell_type": "code",
   "execution_count": 297,
   "metadata": {},
   "outputs": [
    {
     "name": "stdout",
     "output_type": "stream",
     "text": [
      "Accuarcy: 99.75%\n",
      "Precision: 99.76%\n",
      "Recall: 99.75%\n",
      "F1: 99.75%\n"
     ]
    }
   ],
   "source": [
    "## Identifying accuracy, precision, and recall values using builtin funcs:\n",
    "from sklearn.model_selection import cross_validate\n",
    "from sklearn.model_selection import cross_val_score\n",
    "from sklearn.metrics import recall_score\n",
    "\n",
    "#############################\n",
    "#Another metnod for getting accuracy_values \n",
    "#num_folds = 3\n",
    "#scoring = ['precision_macro', 'recall_macro']\n",
    "#scores = cross_validate(classifier, X, y, scoring=scoring, cv = num_folds )\n",
    "#sorted(scores.keys())\n",
    "#scores['test_recall_macro']\n",
    "#############################\n",
    "\n",
    "num_folds = 3\n",
    "accuracy_values = cross_val_score(classifier, X, y, scoring = 'accuracy', cv = num_folds)\n",
    "print(\"Accuarcy: \" + str(round(100*(accuracy_values.mean()), 2)) + \"%\")\n",
    "\n",
    "precision_values = cross_val_score(classifier, X, y, scoring = 'precision_weighted', cv = num_folds)\n",
    "print(\"Precision: \" + str(round(100*(precision_values.mean()), 2)) + \"%\")\n",
    "\n",
    "recall_values = cross_val_score(classifier, X, y, scoring = 'recall_weighted', cv = num_folds)\n",
    "print(\"Recall: \" + str(round(100*(recall_values.mean()), 2)) + \"%\")\n",
    "\n",
    "f1_values = cross_val_score(classifier, X, y, scoring = 'f1_weighted', cv = num_folds)\n",
    "print(\"F1: \" + str(round(100*(f1_values.mean()), 2)) + \"%\")\n"
   ]
  },
  {
   "cell_type": "code",
   "execution_count": 307,
   "metadata": {},
   "outputs": [
    {
     "data": {
      "image/png": "[encoded data removed]",
      "text/plain": [
       "<Figure size 432x288 with 2 Axes>"
      ]
     },
     "metadata": {
      "needs_background": "light"
     },
     "output_type": "display_data"
    }
   ],
   "source": [
    "## Confusion Matrix\n",
    "\n",
    "import numpy as np\n",
    "import matplotlib.pyplot as plt\n",
    "from sklearn.metrics import confusion_matrix\n",
    "from sklearn.metrics import classification_report\n",
    "\n",
    "# Define sample labels\n",
    "true_labels = [2,0,0,2,4,4,1,0,3,3,3]\n",
    "pred_labels = [2,1,0,2,4,3,1,0,1,3,3]\n",
    "\n",
    "# Create confusion matrix\n",
    "confusion_mat = confusion_matrix(true_labels,pred_labels)\n",
    "\n",
    "# Visulaize confusion matrix\n",
    "plt.imshow(confusion_mat, interpolation='nearest', cmap = plt.cm.gray)\n",
    "\n",
    "# Add lable and ticks\n",
    "plt.title('Confusion Matrix')\n",
    "\n",
    "plt.colorbar() # adding color bar on the right side\n",
    "\n",
    "ticks = np.arange(5) # labling the 0-4 on the each axis\n",
    "plt.xticks(ticks,ticks)\n",
    "plt.yticks(ticks,ticks)\n",
    "\n",
    "plt.ylabel('True Labels')\n",
    "plt.xlabel('Prediction labels')\n",
    "\n",
    "plt.show() # [Be nazaram kare khasi nimokone!]\n",
    "\n",
    "\n"
   ]
  },
  {
   "cell_type": "code",
   "execution_count": null,
   "metadata": {},
   "outputs": [],
   "source": []
  },
  {
   "cell_type": "code",
   "execution_count": 393,
   "metadata": {},
   "outputs": [
    {
     "name": "stderr",
     "output_type": "stream",
     "text": [
      "C:\\Users\\Peyman\\Anaconda3\\lib\\site-packages\\sklearn\\svm\\base.py:929: ConvergenceWarning: Liblinear failed to converge, increase the number of iterations.\n",
      "  \"the number of iterations.\", ConvergenceWarning)\n",
      "C:\\Users\\Peyman\\Anaconda3\\lib\\site-packages\\sklearn\\svm\\base.py:929: ConvergenceWarning: Liblinear failed to converge, increase the number of iterations.\n",
      "  \"the number of iterations.\", ConvergenceWarning)\n",
      "C:\\Users\\Peyman\\Anaconda3\\lib\\site-packages\\sklearn\\svm\\base.py:929: ConvergenceWarning: Liblinear failed to converge, increase the number of iterations.\n",
      "  \"the number of iterations.\", ConvergenceWarning)\n",
      "C:\\Users\\Peyman\\Anaconda3\\lib\\site-packages\\sklearn\\svm\\base.py:929: ConvergenceWarning: Liblinear failed to converge, increase the number of iterations.\n",
      "  \"the number of iterations.\", ConvergenceWarning)\n"
     ]
    },
    {
     "name": "stdout",
     "output_type": "stream",
     "text": [
      "F1 Score: 70.82%\n"
     ]
    },
    {
     "name": "stderr",
     "output_type": "stream",
     "text": [
      "C:\\Users\\Peyman\\Anaconda3\\lib\\site-packages\\sklearn\\svm\\base.py:929: ConvergenceWarning: Liblinear failed to converge, increase the number of iterations.\n",
      "  \"the number of iterations.\", ConvergenceWarning)\n"
     ]
    }
   ],
   "source": [
    "## Suport Vector Machine\n",
    "\n",
    "import numpy as np \n",
    "import matplotlib.pyplot as plt \n",
    "from sklearn import preprocessing \n",
    "from sklearn.svm import LinearSVC \n",
    "from sklearn.multiclass import OneVsOneClassifier \n",
    "from sklearn.model_selection import cross_validate\n",
    "\n",
    "# input file containg data\n",
    "input_file = 'income_data.txt'\n",
    "\n",
    "#Read the data\n",
    "X = [] \n",
    "y = [] \n",
    "count_class1 = 0 \n",
    "count_class2 = 0 \n",
    "max_datapoints = 25000\n",
    "\n",
    "# Open the file and start reading the lines\n",
    "# The data is a mixture of text and numbers\n",
    "# The data saved in 'Python Practices' folder on the Desktop\n",
    "\n",
    "with open(\"C:/Users/Peyman/Desktop/Python - Practices/income_data.txt\", 'r') as f: \n",
    "    for line in f.readlines(): \n",
    "        if count_class1 >= max_datapoints and count_class2 >= max_datapoints: \n",
    "            break \n",
    "        if '?' in line: \n",
    "            continue \n",
    "        data = line[:-1].split(', ')\n",
    "\n",
    "        if data[-1] == '<=50K' and count_class1 < max_datapoints:\n",
    "            X.append(data)\n",
    "            count_class1 += 1 \n",
    "\n",
    "        if data[-1] == '>50K' and count_class2 < max_datapoints:\n",
    "            X.append(data)\n",
    "            count_class2 += 1 \n",
    "            \n",
    "# Convert the list into a numpt array that can be given as an input to the sklearn func\n",
    "X = np.array(X)\n",
    "\n",
    "# Convert string data to numerical data\n",
    "label_encoder = [] \n",
    "X_encoded = np.empty(X.shape) \n",
    "for i,item in enumerate(X[0]):\n",
    "    if item.isdigit(): \n",
    "        X_encoded[:,i] = X[:,i] \n",
    "    else: \n",
    "        label_encoder.append(preprocessing.LabelEncoder()) \n",
    "        X_encoded[:,i] = label_encoder[-1].fit_transform(X[:,i])\n",
    "        \n",
    "X = X_encoded[:, :-1].astype(int)\n",
    "y = X_encoded[:,-1].astype(int)\n",
    "\n",
    "# Creat SVM classifier\n",
    "classifier  = OneVsOneClassifier(LinearSVC(random_state=0))\n",
    "\n",
    "# Train Classifier\n",
    "classifier.fit(X,y)\n",
    "\n",
    "# Cross Validation\n",
    "X_train, X_test, y_train, y_test = train_test_split(X,y,test_size=0.2,random_state=5)\n",
    "\n",
    "# Initialize One vs One Classifier using a linear kernel\n",
    "classifier = OneVsOneClassifier(LinearSVC(random_state = 0))\n",
    "\n",
    "# Train\n",
    "classifier.fit(X_train,y_train)\n",
    "\n",
    "# Test\n",
    "y_test_pred = classifier.predict(X_test)\n",
    "\n",
    "# Compute F1 score of the SVM classifier\n",
    "f1 = cross_val_score(classifier, X, y, scoring = 'f1_weighted', cv = 3)\n",
    "print (\"F1 Score: \"+ str(round(100*f1.mean(), 2)) + \"%\")\n",
    "\n"
   ]
  },
  {
   "cell_type": "code",
   "execution_count": 400,
   "metadata": {},
   "outputs": [
    {
     "name": "stderr",
     "output_type": "stream",
     "text": [
      "C:\\Users\\Peyman\\Anaconda3\\lib\\site-packages\\sklearn\\svm\\base.py:929: ConvergenceWarning: Liblinear failed to converge, increase the number of iterations.\n",
      "  \"the number of iterations.\", ConvergenceWarning)\n",
      "C:\\Users\\Peyman\\Anaconda3\\lib\\site-packages\\sklearn\\svm\\base.py:929: ConvergenceWarning: Liblinear failed to converge, increase the number of iterations.\n",
      "  \"the number of iterations.\", ConvergenceWarning)\n",
      "C:\\Users\\Peyman\\Anaconda3\\lib\\site-packages\\sklearn\\svm\\base.py:929: ConvergenceWarning: Liblinear failed to converge, increase the number of iterations.\n",
      "  \"the number of iterations.\", ConvergenceWarning)\n",
      "C:\\Users\\Peyman\\Anaconda3\\lib\\site-packages\\sklearn\\svm\\base.py:929: ConvergenceWarning: Liblinear failed to converge, increase the number of iterations.\n",
      "  \"the number of iterations.\", ConvergenceWarning)\n"
     ]
    },
    {
     "name": "stdout",
     "output_type": "stream",
     "text": [
      "F1 Score: 70.82%\n"
     ]
    },
    {
     "name": "stderr",
     "output_type": "stream",
     "text": [
      "C:\\Users\\Peyman\\Anaconda3\\lib\\site-packages\\sklearn\\svm\\base.py:929: ConvergenceWarning: Liblinear failed to converge, increase the number of iterations.\n",
      "  \"the number of iterations.\", ConvergenceWarning)\n"
     ]
    }
   ],
   "source": [
    "# Test code for checking input_data with one row \n",
    "# the input data in SVM program was changed to a signle cell list.\n",
    "# the actual data has some indicator at the end of each line (line fit = LF). To see the indicators you should use Notepad ++ (good environment because you can see unvisible indicators with this data text editor and it helps you to write your language and it does the editing itself automatically like teking care of indents )\n",
    "\n",
    "## Suport Vector Machine\n",
    "\n",
    "import numpy as np \n",
    "import matplotlib.pyplot as plt \n",
    "from sklearn import preprocessing \n",
    "from sklearn.svm import LinearSVC \n",
    "from sklearn.multiclass import OneVsOneClassifier \n",
    "from sklearn.model_selection import cross_validate\n",
    "\n",
    "# predict output for the test datapoint\n",
    "input_data = [['37', 'Privaite', '215646', 'HS-grad', '9', 'Never-married', 'Handlers-cleaners','Not-in-family', 'White', 'Male','0','0','40','United-States']]\n",
    "\n",
    "#Read the data\n",
    "X = [] \n",
    "y = [] \n",
    "count_class1 = 0 \n",
    "count_class2 = 0 \n",
    "max_datapoints = 25000\n",
    "\n",
    "# Open the file and start reading the lines\n",
    "# The data is a mixture of text and numbers\n",
    "# The data saved in 'Python Practices' folder on the Desktop\n",
    "\n",
    "with open(\"C:/Users/Peyman/Desktop/Python - Practices/income_data.txt\", 'r') as f: \n",
    "    for line in f.readlines(): \n",
    "        if count_class1 >= max_datapoints and count_class2 >= max_datapoints: \n",
    "            break \n",
    "        if '?' in line: \n",
    "            continue \n",
    "        data = line[:-1].split(', ')\n",
    "\n",
    "        if data[-1] == '<=50K' and count_class1 < max_datapoints:\n",
    "            X.append(data)\n",
    "            count_class1 += 1 \n",
    "\n",
    "        if data[-1] == '>50K' and count_class2 < max_datapoints:\n",
    "            X.append(data)\n",
    "            count_class2 += 1 \n",
    "            \n",
    "# Convert the list into a numpt array that can be given as an input to the sklearn func\n",
    "X = np.array(X)\n",
    "\n",
    "# Convert string data to numerical data\n",
    "label_encoder = [] \n",
    "X_encoded = np.empty(X.shape) \n",
    "for i,item in enumerate(X[0]):\n",
    "    if item.isdigit(): \n",
    "        X_encoded[:,i] = X[:,i] \n",
    "    else: \n",
    "        label_encoder.append(preprocessing.LabelEncoder()) \n",
    "        X_encoded[:,i] = label_encoder[-1].fit_transform(X[:,i])\n",
    "        \n",
    "X = X_encoded[:, :-1].astype(int)\n",
    "y = X_encoded[:,-1].astype(int)\n",
    "\n",
    "# Creat SVM classifier\n",
    "classifier  = OneVsOneClassifier(LinearSVC(random_state=0))\n",
    "\n",
    "# Train Classifier\n",
    "classifier.fit(X,y)\n",
    "\n",
    "# Cross Validation\n",
    "X_train, X_test, y_train, y_test = train_test_split(X,y,test_size=0.2,random_state=5)\n",
    "\n",
    "# Initialize One vs One Classifier using a linear kernel\n",
    "classifier = OneVsOneClassifier(LinearSVC(random_state = 0))\n",
    "\n",
    "# Train\n",
    "classifier.fit(X_train,y_train)\n",
    "\n",
    "# Test\n",
    "y_test_pred = classifier.predict(X_test)\n",
    "\n",
    "# Compute F1 score of the SVM classifier\n",
    "f1 = cross_val_score(classifier, X, y, scoring = 'f1_weighted', cv = 3)\n",
    "print (\"F1 Score: \"+ str(round(100*f1.mean(), 2)) + \"%\")\n",
    "\n",
    "\n",
    "\n"
   ]
  },
  {
   "cell_type": "code",
   "execution_count": 402,
   "metadata": {},
   "outputs": [
    {
     "ename": "AttributeError",
     "evalue": "'list' object has no attribute 'isdigit'",
     "output_type": "error",
     "traceback": [
      "\u001b[1;31m---------------------------------------------------------------------------\u001b[0m",
      "\u001b[1;31mAttributeError\u001b[0m                            Traceback (most recent call last)",
      "\u001b[1;32m<ipython-input-402-96d2b8905040>\u001b[0m in \u001b[0;36m<module>\u001b[1;34m\u001b[0m\n\u001b[0;32m     26\u001b[0m \u001b[1;33m\u001b[0m\u001b[0m\n\u001b[0;32m     27\u001b[0m \u001b[1;32mfor\u001b[0m \u001b[0mi\u001b[0m\u001b[1;33m,\u001b[0m \u001b[0mitem\u001b[0m \u001b[1;32min\u001b[0m \u001b[0menumerate\u001b[0m\u001b[1;33m(\u001b[0m\u001b[0minput_data\u001b[0m\u001b[1;33m)\u001b[0m\u001b[1;33m:\u001b[0m \u001b[1;31m# Enumerate() method adds a counter to an iterable and returns it in a form of enumerate object.\u001b[0m\u001b[1;33m\u001b[0m\u001b[1;33m\u001b[0m\u001b[0m\n\u001b[1;32m---> 28\u001b[1;33m     \u001b[1;32mif\u001b[0m \u001b[0mitem\u001b[0m\u001b[1;33m.\u001b[0m\u001b[0misdigit\u001b[0m\u001b[1;33m(\u001b[0m\u001b[1;33m)\u001b[0m\u001b[1;33m:\u001b[0m\u001b[1;33m\u001b[0m\u001b[1;33m\u001b[0m\u001b[0m\n\u001b[0m\u001b[0;32m     29\u001b[0m         \u001b[0minput_data_encoded\u001b[0m\u001b[1;33m[\u001b[0m\u001b[0mi\u001b[0m\u001b[1;33m]\u001b[0m \u001b[1;33m=\u001b[0m \u001b[0mint\u001b[0m\u001b[1;33m(\u001b[0m\u001b[0minput_data\u001b[0m\u001b[1;33m[\u001b[0m\u001b[0mi\u001b[0m\u001b[1;33m]\u001b[0m\u001b[1;33m)\u001b[0m\u001b[1;33m\u001b[0m\u001b[1;33m\u001b[0m\u001b[0m\n\u001b[0;32m     30\u001b[0m     \u001b[1;32melse\u001b[0m\u001b[1;33m:\u001b[0m\u001b[1;33m\u001b[0m\u001b[1;33m\u001b[0m\u001b[0m\n",
      "\u001b[1;31mAttributeError\u001b[0m: 'list' object has no attribute 'isdigit'"
     ]
    }
   ],
   "source": [
    "import numpy as np \n",
    "import matplotlib.pyplot as plt \n",
    "from sklearn import preprocessing \n",
    "from sklearn.svm import LinearSVC \n",
    "from sklearn.multiclass import OneVsOneClassifier \n",
    "from sklearn.model_selection import cross_validate\n",
    "\n",
    "# predict output for the test datapoint\n",
    "input_data = [['37', 'Privaite', '215646', 'HS-grad', '9', 'Never-married', 'Handlers-cleaners','Not-in-family', 'White', 'Male','0','0','40','United-States']]\n",
    "\n",
    "\n",
    "# Encode test datapoint\n",
    "input_data_encoded = [-1]*len(input_data)\n",
    "count = 0\n",
    "\n",
    "\n",
    "#for i,item in enumerate(X[0]):\n",
    "#    if item.isdigit(): \n",
    "#        X_encoded[:,i] = X[:,i] \n",
    "#    else: \n",
    "#        label_encoder.append(preprocessing.LabelEncoder()) \n",
    "#        X_encoded[:,i] = label_encoder[-1].fit_transform(X[:,i])\n",
    "\n",
    "\n",
    "\n",
    "\n",
    "for i, item in enumerate(input_data): # Enumerate() method adds a counter to an iterable and returns it in a form of enumerate object. \n",
    "    if item.isdigit():\n",
    "        input_data_encoded[i] = int(input_data[i])\n",
    "    else:\n",
    "        #label_encoder.append(preprocessing.LabelEncoder())\n",
    "        #print(label_encoder)\n",
    "        input_data_encoded[i] = int(label_encoder[count].fit_transform(input_data[i]))\n",
    "        count +=1\n",
    "input_data_encoded = np.array(input_data_encoded)\n",
    "\n",
    "\n"
   ]
  },
  {
   "cell_type": "code",
   "execution_count": null,
   "metadata": {},
   "outputs": [],
   "source": []
  },
  {
   "cell_type": "code",
   "execution_count": 388,
   "metadata": {},
   "outputs": [
    {
     "ename": "ValueError",
     "evalue": "Expected 2D array, got 1D array instead:\narray=[37 -1 -1 -1 -1 -1 -1 -1 -1 -1 -1 -1 -1 -1].\nReshape your data either using array.reshape(-1, 1) if your data has a single feature or array.reshape(1, -1) if it contains a single sample.",
     "output_type": "error",
     "traceback": [
      "\u001b[1;31m---------------------------------------------------------------------------\u001b[0m",
      "\u001b[1;31mValueError\u001b[0m                                Traceback (most recent call last)",
      "\u001b[1;32m<ipython-input-388-02155486d291>\u001b[0m in \u001b[0;36m<module>\u001b[1;34m\u001b[0m\n\u001b[0;32m      1\u001b[0m \u001b[1;31m# Run classifier on encoded datapoint and print output\u001b[0m\u001b[1;33m\u001b[0m\u001b[1;33m\u001b[0m\u001b[1;33m\u001b[0m\u001b[0m\n\u001b[1;32m----> 2\u001b[1;33m \u001b[0mpredicted_class\u001b[0m \u001b[1;33m=\u001b[0m \u001b[0mclassifier\u001b[0m\u001b[1;33m.\u001b[0m\u001b[0mpredict\u001b[0m\u001b[1;33m(\u001b[0m\u001b[0minput_data_encoded\u001b[0m\u001b[1;33m)\u001b[0m\u001b[1;33m\u001b[0m\u001b[1;33m\u001b[0m\u001b[0m\n\u001b[0m\u001b[0;32m      3\u001b[0m \u001b[0mprint\u001b[0m\u001b[1;33m(\u001b[0m\u001b[0mlabel_encoder\u001b[0m\u001b[1;33m[\u001b[0m\u001b[1;33m-\u001b[0m\u001b[1;36m1\u001b[0m\u001b[1;33m]\u001b[0m\u001b[1;33m.\u001b[0m\u001b[0minverse_transform\u001b[0m\u001b[1;33m(\u001b[0m\u001b[0mpredicted_class\u001b[0m\u001b[1;33m)\u001b[0m\u001b[1;33m[\u001b[0m\u001b[1;36m0\u001b[0m\u001b[1;33m]\u001b[0m\u001b[1;33m)\u001b[0m\u001b[1;33m\u001b[0m\u001b[1;33m\u001b[0m\u001b[0m\n\u001b[0;32m      4\u001b[0m \u001b[1;33m\u001b[0m\u001b[0m\n\u001b[0;32m      5\u001b[0m \u001b[1;33m\u001b[0m\u001b[0m\n",
      "\u001b[1;32m~\\Anaconda3\\lib\\site-packages\\sklearn\\multiclass.py\u001b[0m in \u001b[0;36mpredict\u001b[1;34m(self, X)\u001b[0m\n\u001b[0;32m    584\u001b[0m             \u001b[0mPredicted\u001b[0m \u001b[0mmulti\u001b[0m\u001b[1;33m-\u001b[0m\u001b[1;32mclass\u001b[0m \u001b[0mtargets\u001b[0m\u001b[1;33m.\u001b[0m\u001b[1;33m\u001b[0m\u001b[1;33m\u001b[0m\u001b[0m\n\u001b[0;32m    585\u001b[0m         \"\"\"\n\u001b[1;32m--> 586\u001b[1;33m         \u001b[0mY\u001b[0m \u001b[1;33m=\u001b[0m \u001b[0mself\u001b[0m\u001b[1;33m.\u001b[0m\u001b[0mdecision_function\u001b[0m\u001b[1;33m(\u001b[0m\u001b[0mX\u001b[0m\u001b[1;33m)\u001b[0m\u001b[1;33m\u001b[0m\u001b[1;33m\u001b[0m\u001b[0m\n\u001b[0m\u001b[0;32m    587\u001b[0m         \u001b[1;32mif\u001b[0m \u001b[0mself\u001b[0m\u001b[1;33m.\u001b[0m\u001b[0mn_classes_\u001b[0m \u001b[1;33m==\u001b[0m \u001b[1;36m2\u001b[0m\u001b[1;33m:\u001b[0m\u001b[1;33m\u001b[0m\u001b[1;33m\u001b[0m\u001b[0m\n\u001b[0;32m    588\u001b[0m             \u001b[1;32mreturn\u001b[0m \u001b[0mself\u001b[0m\u001b[1;33m.\u001b[0m\u001b[0mclasses_\u001b[0m\u001b[1;33m[\u001b[0m\u001b[1;33m(\u001b[0m\u001b[0mY\u001b[0m \u001b[1;33m>\u001b[0m \u001b[1;36m0\u001b[0m\u001b[1;33m)\u001b[0m\u001b[1;33m.\u001b[0m\u001b[0mastype\u001b[0m\u001b[1;33m(\u001b[0m\u001b[0mnp\u001b[0m\u001b[1;33m.\u001b[0m\u001b[0mint\u001b[0m\u001b[1;33m)\u001b[0m\u001b[1;33m]\u001b[0m\u001b[1;33m\u001b[0m\u001b[1;33m\u001b[0m\u001b[0m\n",
      "\u001b[1;32m~\\Anaconda3\\lib\\site-packages\\sklearn\\multiclass.py\u001b[0m in \u001b[0;36mdecision_function\u001b[1;34m(self, X)\u001b[0m\n\u001b[0;32m    614\u001b[0m \u001b[1;33m\u001b[0m\u001b[0m\n\u001b[0;32m    615\u001b[0m         predictions = np.vstack([est.predict(Xi)\n\u001b[1;32m--> 616\u001b[1;33m                                  for est, Xi in zip(self.estimators_, Xs)]).T\n\u001b[0m\u001b[0;32m    617\u001b[0m         confidences = np.vstack([_predict_binary(est, Xi)\n\u001b[0;32m    618\u001b[0m                                  for est, Xi in zip(self.estimators_, Xs)]).T\n",
      "\u001b[1;32m~\\Anaconda3\\lib\\site-packages\\sklearn\\multiclass.py\u001b[0m in \u001b[0;36m<listcomp>\u001b[1;34m(.0)\u001b[0m\n\u001b[0;32m    614\u001b[0m \u001b[1;33m\u001b[0m\u001b[0m\n\u001b[0;32m    615\u001b[0m         predictions = np.vstack([est.predict(Xi)\n\u001b[1;32m--> 616\u001b[1;33m                                  for est, Xi in zip(self.estimators_, Xs)]).T\n\u001b[0m\u001b[0;32m    617\u001b[0m         confidences = np.vstack([_predict_binary(est, Xi)\n\u001b[0;32m    618\u001b[0m                                  for est, Xi in zip(self.estimators_, Xs)]).T\n",
      "\u001b[1;32m~\\Anaconda3\\lib\\site-packages\\sklearn\\linear_model\\base.py\u001b[0m in \u001b[0;36mpredict\u001b[1;34m(self, X)\u001b[0m\n\u001b[0;32m    287\u001b[0m             \u001b[0mPredicted\u001b[0m \u001b[1;32mclass\u001b[0m \u001b[0mlabel\u001b[0m \u001b[0mper\u001b[0m \u001b[0msample\u001b[0m\u001b[1;33m.\u001b[0m\u001b[1;33m\u001b[0m\u001b[1;33m\u001b[0m\u001b[0m\n\u001b[0;32m    288\u001b[0m         \"\"\"\n\u001b[1;32m--> 289\u001b[1;33m         \u001b[0mscores\u001b[0m \u001b[1;33m=\u001b[0m \u001b[0mself\u001b[0m\u001b[1;33m.\u001b[0m\u001b[0mdecision_function\u001b[0m\u001b[1;33m(\u001b[0m\u001b[0mX\u001b[0m\u001b[1;33m)\u001b[0m\u001b[1;33m\u001b[0m\u001b[1;33m\u001b[0m\u001b[0m\n\u001b[0m\u001b[0;32m    290\u001b[0m         \u001b[1;32mif\u001b[0m \u001b[0mlen\u001b[0m\u001b[1;33m(\u001b[0m\u001b[0mscores\u001b[0m\u001b[1;33m.\u001b[0m\u001b[0mshape\u001b[0m\u001b[1;33m)\u001b[0m \u001b[1;33m==\u001b[0m \u001b[1;36m1\u001b[0m\u001b[1;33m:\u001b[0m\u001b[1;33m\u001b[0m\u001b[1;33m\u001b[0m\u001b[0m\n\u001b[0;32m    291\u001b[0m             \u001b[0mindices\u001b[0m \u001b[1;33m=\u001b[0m \u001b[1;33m(\u001b[0m\u001b[0mscores\u001b[0m \u001b[1;33m>\u001b[0m \u001b[1;36m0\u001b[0m\u001b[1;33m)\u001b[0m\u001b[1;33m.\u001b[0m\u001b[0mastype\u001b[0m\u001b[1;33m(\u001b[0m\u001b[0mnp\u001b[0m\u001b[1;33m.\u001b[0m\u001b[0mint\u001b[0m\u001b[1;33m)\u001b[0m\u001b[1;33m\u001b[0m\u001b[1;33m\u001b[0m\u001b[0m\n",
      "\u001b[1;32m~\\Anaconda3\\lib\\site-packages\\sklearn\\linear_model\\base.py\u001b[0m in \u001b[0;36mdecision_function\u001b[1;34m(self, X)\u001b[0m\n\u001b[0;32m    263\u001b[0m                                  \"yet\" % {'name': type(self).__name__})\n\u001b[0;32m    264\u001b[0m \u001b[1;33m\u001b[0m\u001b[0m\n\u001b[1;32m--> 265\u001b[1;33m         \u001b[0mX\u001b[0m \u001b[1;33m=\u001b[0m \u001b[0mcheck_array\u001b[0m\u001b[1;33m(\u001b[0m\u001b[0mX\u001b[0m\u001b[1;33m,\u001b[0m \u001b[0maccept_sparse\u001b[0m\u001b[1;33m=\u001b[0m\u001b[1;34m'csr'\u001b[0m\u001b[1;33m)\u001b[0m\u001b[1;33m\u001b[0m\u001b[1;33m\u001b[0m\u001b[0m\n\u001b[0m\u001b[0;32m    266\u001b[0m \u001b[1;33m\u001b[0m\u001b[0m\n\u001b[0;32m    267\u001b[0m         \u001b[0mn_features\u001b[0m \u001b[1;33m=\u001b[0m \u001b[0mself\u001b[0m\u001b[1;33m.\u001b[0m\u001b[0mcoef_\u001b[0m\u001b[1;33m.\u001b[0m\u001b[0mshape\u001b[0m\u001b[1;33m[\u001b[0m\u001b[1;36m1\u001b[0m\u001b[1;33m]\u001b[0m\u001b[1;33m\u001b[0m\u001b[1;33m\u001b[0m\u001b[0m\n",
      "\u001b[1;32m~\\Anaconda3\\lib\\site-packages\\sklearn\\utils\\validation.py\u001b[0m in \u001b[0;36mcheck_array\u001b[1;34m(array, accept_sparse, accept_large_sparse, dtype, order, copy, force_all_finite, ensure_2d, allow_nd, ensure_min_samples, ensure_min_features, warn_on_dtype, estimator)\u001b[0m\n\u001b[0;32m    519\u001b[0m                     \u001b[1;34m\"Reshape your data either using array.reshape(-1, 1) if \"\u001b[0m\u001b[1;33m\u001b[0m\u001b[1;33m\u001b[0m\u001b[0m\n\u001b[0;32m    520\u001b[0m                     \u001b[1;34m\"your data has a single feature or array.reshape(1, -1) \"\u001b[0m\u001b[1;33m\u001b[0m\u001b[1;33m\u001b[0m\u001b[0m\n\u001b[1;32m--> 521\u001b[1;33m                     \"if it contains a single sample.\".format(array))\n\u001b[0m\u001b[0;32m    522\u001b[0m \u001b[1;33m\u001b[0m\u001b[0m\n\u001b[0;32m    523\u001b[0m         \u001b[1;31m# in the future np.flexible dtypes will be handled like object dtypes\u001b[0m\u001b[1;33m\u001b[0m\u001b[1;33m\u001b[0m\u001b[1;33m\u001b[0m\u001b[0m\n",
      "\u001b[1;31mValueError\u001b[0m: Expected 2D array, got 1D array instead:\narray=[37 -1 -1 -1 -1 -1 -1 -1 -1 -1 -1 -1 -1 -1].\nReshape your data either using array.reshape(-1, 1) if your data has a single feature or array.reshape(1, -1) if it contains a single sample."
     ]
    }
   ],
   "source": [
    "# Run classifier on encoded datapoint and print output\n",
    "predicted_class = classifier.predict(input_data_encoded)\n",
    "print(label_encoder[-1].inverse_transform(predicted_class)[0])\n",
    "\n",
    "  \n",
    " "
   ]
  },
  {
   "cell_type": "code",
   "execution_count": 433,
   "metadata": {},
   "outputs": [
    {
     "data": {
      "image/png": "[encoded data removed]",
      "text/plain": [
       "<Figure size 432x288 with 1 Axes>"
      ]
     },
     "metadata": {},
     "output_type": "display_data"
    },
    {
     "data": {
      "image/png": "[encoded data removed]",
      "text/plain": [
       "<Figure size 432x288 with 1 Axes>"
      ]
     },
     "metadata": {},
     "output_type": "display_data"
    },
    {
     "name": "stdout",
     "output_type": "stream",
     "text": [
      "Linrear regressor performance: \n",
      "Mean absolute error =  0.59\n",
      "Mean squared error =  0.49\n",
      "Median absolute error =  0.51\n",
      "Explianed variance score =  0.86\n",
      "R2 score =  0.86\n",
      "\n",
      "New mean absolute error = 0.59\n"
     ]
    }
   ],
   "source": [
    "## Single variable regression model (regressor)\n",
    "\n",
    "# Python pickle module is used for serializing and de-serializing a Python object structure. ... Pickling is a way to convert a python object (list, dict, etc.) into a character stream. The idea is that this character stream contains all the information necessary to reconstruct the object in another python script.\n",
    "import pickle\n",
    "from sklearn import linear_model\n",
    "import sklearn.metrics as sm\n",
    "import matplotlib.pyplot as plt\n",
    "\n",
    "# Input data; Github of this course --> chapter 2 --> click on the name of data --> Raw --> right click - save in Python Practice folder\n",
    "input_file = open(\"C:/Users/Peyman/Desktop/Python - Practices/data_singlevar_regr.txt\", 'r')\n",
    "\n",
    "#Read data\n",
    "data = np.loadtxt(input_file, delimiter=',')\n",
    "X, y = data[:, :-1], data[:,-1]\n",
    "\n",
    "# Split into training and testing set\n",
    "num_training = int(0.8*len(X))\n",
    "num_test = len(X) - num_training\n",
    "\n",
    "#Training data\n",
    "X_train, y_train, = X[:num_training], y[:num_training] # X[:num_training] means slicing data from index zero to num_training-1 # this made in a way that a[:3]+a[3:]=a\n",
    "\n",
    "# Test data\n",
    "X_test, y_test = X[num_training:], y[num_training:]\n",
    "\n",
    "# Create linear regressor object\n",
    "regressor = linear_model.LinearRegression()\n",
    "\n",
    "# Train the model using the training set\n",
    "regressor.fit(X_train, y_train)\n",
    "\n",
    "# Pridic the output\n",
    "y_test_pred = regressor.predict(X_test)\n",
    "\n",
    "#Plot the training set and obtained regression line\n",
    "plt.scatter(X_train, y_train, color='green')\n",
    "plt.plot(X_test, y_test_pred, color=\"black\", linewidth=4)\n",
    "plt.xticks(())\n",
    "plt.yticks(())\n",
    "plt.show()\n",
    "\n",
    "# The regression line was made based on the training set, then the line is used for the test set and the second plot shows the success of the regression results\n",
    "\n",
    "#Plot the output\n",
    "plt.scatter(X_test, y_test, color='red')\n",
    "plt.plot(X_test, y_test_pred, color=\"black\", linewidth=4)\n",
    "plt.xticks(())\n",
    "plt.yticks(())\n",
    "plt.show()\n",
    "\n",
    "# Compute performance metrics\n",
    "print(\"Linrear regressor performance: \")\n",
    "print(\"Mean absolute error = \", round(sm.mean_absolute_error(y_test, y_test_pred), 2))\n",
    "print(\"Mean squared error = \", round(sm.mean_squared_error(y_test, y_test_pred), 2))\n",
    "print(\"Median absolute error = \", round(sm.median_absolute_error(y_test, y_test_pred), 2))\n",
    "print(\"Explianed variance score = \", round(sm.explained_variance_score(y_test, y_test_pred),2)) \n",
    "print(\"R2 score = \", round(sm.r2_score(y_test, y_test_pred), 2))\n",
    "\n",
    "\n",
    "# variance score=1−Var[y^−y]/Var[y] , where the Var is 'biased variance'; i.e. Var[y^−y]=sum(error2−mean(error))/n. Compared with R2, the only difference is from the mean(error). if mean(error)=0, then R2 = explained variance score\n",
    "\n",
    "# Saving the model into a file for later use through using 'pickle'\n",
    "\n",
    "# Model persistence\n",
    "output_model_file = 'model.pkl'\n",
    "\n",
    "# Save the model\n",
    "with open(output_model_file, 'wb') as f:\n",
    "    pickle.dump(regressor, f)\n",
    "    \n",
    "# Now we load the model from the file on the disk and perform prediction\n",
    "# Load the model:\n",
    "with open(output_model_file, 'rb') as f:\n",
    "    regressor_model = pickle.load(f)\n",
    "    \n",
    "# Perform prediction on test data\n",
    "y_test_pred_new = regressor_model.predict(X_test)\n",
    "\n",
    "print(\"\\nNew mean absolute error =\", round(sm.mean_absolute_error(y_test, y_test_pred), 2))\n"
   ]
  },
  {
   "cell_type": "code",
   "execution_count": 442,
   "metadata": {},
   "outputs": [
    {
     "name": "stdout",
     "output_type": "stream",
     "text": [
      "Linear regressor performance using multivariable regressor: \n",
      "Mean Absolute Error =  3.58\n",
      "Mean Squared Error =  20.31\n",
      "Median Absolute Error =  2.99\n",
      "Explained Variance Score =  0.86\n",
      "R2 Score =  0.86\n",
      "\n",
      "Linear regression:\n",
      " [35.46654397]\n",
      "\n",
      "Polynomial regression:\n",
      " [40.94049094]\n"
     ]
    }
   ],
   "source": [
    "## Multivariable Regressor\n",
    "\n",
    "import numpy as np\n",
    "from sklearn import linear_model\n",
    "import sklearn.metrics as sm\n",
    "from sklearn.preprocessing import PolynomialFeatures\n",
    "\n",
    "# input file containg data\n",
    "input_file = open(\"C:/Users/Peyman/Desktop/Python - Practices/data_multivar_regr.txt\", 'r')\n",
    "\n",
    "# Load the data from the input file\n",
    "data = np.loadtxt(input_file, delimiter=',')\n",
    "X, y = data[:,:-1], data[:,-1]\n",
    "\n",
    "# Split the data into training and testing\n",
    "num_training = int(0.8*len(X))\n",
    "num_test = len(X) - num_training\n",
    "\n",
    "# Training set\n",
    "X_train, y_train = X[:num_training], y[:num_training]\n",
    "\n",
    "# Test set\n",
    "X_test, y_test = X[num_training:], y[num_training:]\n",
    "\n",
    "# Creat the linear regressor model:\n",
    "linear_regressor = linear_model.LinearRegression()\n",
    "\n",
    "# Train the model using the training set\n",
    "linear_regressor.fit(X_train, y_train)\n",
    "\n",
    "# predict the output for the test set\n",
    "y_test_pred = linear_regressor.predict(X_test)\n",
    "\n",
    "# Measure performance metrics\n",
    "print(\"Linear regressor performance using multivariable regressor: \")\n",
    "print(\"Mean Absolute Error = \", round(sm.mean_absolute_error(y_test, y_test_pred),2))\n",
    "print(\"Mean Squared Error = \", round(sm.mean_squared_error(y_test, y_test_pred),2))\n",
    "print(\"Median Absolute Error = \", round(sm.median_absolute_error(y_test,y_test_pred),2))\n",
    "print(\"Explained Variance Score = \", round(sm.explained_variance_score(y_test,y_test_pred),2))\n",
    "print(\"R2 Score = \", round(sm.r2_score(y_test, y_test_pred),2))\n",
    "\n",
    "# Create a polynomial regressor of degree 10. --> Train dataset --> Make a sample data point --> Perform prediction \n",
    "\n",
    "\n",
    "polynomial = PolynomialFeatures(degree = 10) # 10 darajeye polynomial ast; (dafualt: degree=2 parabola) \n",
    "X_train_transformed = polynomial.fit_transform(X_train)\n",
    "datapoint =[[7.66, 6.29, 5.66]] # [[7.75, 6.36, 5.56]]\n",
    "poly_datapoint = polynomial.fit_transform(datapoint)\n",
    "\n",
    "\n",
    "# Create a linear regressor object and perform polynimial fit using both linear and polynomial regressors\n",
    "# the datapoint selected above is the 11th row of the data_multivar_regr: [7.66, 6.29, 5.66, 41.35]\n",
    "# the following code that gets three first numbers of [7.66, 6.29, 5.66], suppose to predict 41.35\n",
    "poly_linear_model = linear_model.LinearRegression()\n",
    "poly_linear_model.fit(X_train_transformed, y_train)\n",
    "print(\"\\nLinear regression:\\n\", linear_regressor.predict(datapoint))\n",
    "print(\"\\nPolynomial regression:\\n\", poly_linear_model.predict(poly_datapoint))\n",
    "\n"
   ]
  },
  {
   "cell_type": "code",
   "execution_count": 445,
   "metadata": {},
   "outputs": [
    {
     "ename": "ValueError",
     "evalue": "Found input variables with inconsistent numbers of samples: [560, 404]",
     "output_type": "error",
     "traceback": [
      "\u001b[1;31m---------------------------------------------------------------------------\u001b[0m",
      "\u001b[1;31mValueError\u001b[0m                                Traceback (most recent call last)",
      "\u001b[1;32m<ipython-input-445-9da81f52f61f>\u001b[0m in \u001b[0;36m<module>\u001b[1;34m\u001b[0m\n\u001b[0;32m     26\u001b[0m \u001b[1;33m\u001b[0m\u001b[0m\n\u001b[0;32m     27\u001b[0m \u001b[1;31m# Train Support Vecotr Regressor\u001b[0m\u001b[1;33m\u001b[0m\u001b[1;33m\u001b[0m\u001b[1;33m\u001b[0m\u001b[0m\n\u001b[1;32m---> 28\u001b[1;33m \u001b[0msv_regressor\u001b[0m\u001b[1;33m.\u001b[0m\u001b[0mfit\u001b[0m\u001b[1;33m(\u001b[0m\u001b[0mX_train\u001b[0m\u001b[1;33m,\u001b[0m \u001b[0my_train\u001b[0m\u001b[1;33m)\u001b[0m\u001b[1;33m\u001b[0m\u001b[1;33m\u001b[0m\u001b[0m\n\u001b[0m\u001b[0;32m     29\u001b[0m \u001b[1;33m\u001b[0m\u001b[0m\n\u001b[0;32m     30\u001b[0m \u001b[1;31m# Evaluate the performance of Support Vector Regressor\u001b[0m\u001b[1;33m\u001b[0m\u001b[1;33m\u001b[0m\u001b[1;33m\u001b[0m\u001b[0m\n",
      "\u001b[1;32m~\\Anaconda3\\lib\\site-packages\\sklearn\\svm\\base.py\u001b[0m in \u001b[0;36mfit\u001b[1;34m(self, X, y, sample_weight)\u001b[0m\n\u001b[0;32m    144\u001b[0m         X, y = check_X_y(X, y, dtype=np.float64,\n\u001b[0;32m    145\u001b[0m                          \u001b[0morder\u001b[0m\u001b[1;33m=\u001b[0m\u001b[1;34m'C'\u001b[0m\u001b[1;33m,\u001b[0m \u001b[0maccept_sparse\u001b[0m\u001b[1;33m=\u001b[0m\u001b[1;34m'csr'\u001b[0m\u001b[1;33m,\u001b[0m\u001b[1;33m\u001b[0m\u001b[1;33m\u001b[0m\u001b[0m\n\u001b[1;32m--> 146\u001b[1;33m                          accept_large_sparse=False)\n\u001b[0m\u001b[0;32m    147\u001b[0m         \u001b[0my\u001b[0m \u001b[1;33m=\u001b[0m \u001b[0mself\u001b[0m\u001b[1;33m.\u001b[0m\u001b[0m_validate_targets\u001b[0m\u001b[1;33m(\u001b[0m\u001b[0my\u001b[0m\u001b[1;33m)\u001b[0m\u001b[1;33m\u001b[0m\u001b[1;33m\u001b[0m\u001b[0m\n\u001b[0;32m    148\u001b[0m \u001b[1;33m\u001b[0m\u001b[0m\n",
      "\u001b[1;32m~\\Anaconda3\\lib\\site-packages\\sklearn\\utils\\validation.py\u001b[0m in \u001b[0;36mcheck_X_y\u001b[1;34m(X, y, accept_sparse, accept_large_sparse, dtype, order, copy, force_all_finite, ensure_2d, allow_nd, multi_output, ensure_min_samples, ensure_min_features, y_numeric, warn_on_dtype, estimator)\u001b[0m\n\u001b[0;32m    727\u001b[0m         \u001b[0my\u001b[0m \u001b[1;33m=\u001b[0m \u001b[0my\u001b[0m\u001b[1;33m.\u001b[0m\u001b[0mastype\u001b[0m\u001b[1;33m(\u001b[0m\u001b[0mnp\u001b[0m\u001b[1;33m.\u001b[0m\u001b[0mfloat64\u001b[0m\u001b[1;33m)\u001b[0m\u001b[1;33m\u001b[0m\u001b[1;33m\u001b[0m\u001b[0m\n\u001b[0;32m    728\u001b[0m \u001b[1;33m\u001b[0m\u001b[0m\n\u001b[1;32m--> 729\u001b[1;33m     \u001b[0mcheck_consistent_length\u001b[0m\u001b[1;33m(\u001b[0m\u001b[0mX\u001b[0m\u001b[1;33m,\u001b[0m \u001b[0my\u001b[0m\u001b[1;33m)\u001b[0m\u001b[1;33m\u001b[0m\u001b[1;33m\u001b[0m\u001b[0m\n\u001b[0m\u001b[0;32m    730\u001b[0m \u001b[1;33m\u001b[0m\u001b[0m\n\u001b[0;32m    731\u001b[0m     \u001b[1;32mreturn\u001b[0m \u001b[0mX\u001b[0m\u001b[1;33m,\u001b[0m \u001b[0my\u001b[0m\u001b[1;33m\u001b[0m\u001b[1;33m\u001b[0m\u001b[0m\n",
      "\u001b[1;32m~\\Anaconda3\\lib\\site-packages\\sklearn\\utils\\validation.py\u001b[0m in \u001b[0;36mcheck_consistent_length\u001b[1;34m(*arrays)\u001b[0m\n\u001b[0;32m    203\u001b[0m     \u001b[1;32mif\u001b[0m \u001b[0mlen\u001b[0m\u001b[1;33m(\u001b[0m\u001b[0muniques\u001b[0m\u001b[1;33m)\u001b[0m \u001b[1;33m>\u001b[0m \u001b[1;36m1\u001b[0m\u001b[1;33m:\u001b[0m\u001b[1;33m\u001b[0m\u001b[1;33m\u001b[0m\u001b[0m\n\u001b[0;32m    204\u001b[0m         raise ValueError(\"Found input variables with inconsistent numbers of\"\n\u001b[1;32m--> 205\u001b[1;33m                          \" samples: %r\" % [int(l) for l in lengths])\n\u001b[0m\u001b[0;32m    206\u001b[0m \u001b[1;33m\u001b[0m\u001b[0m\n\u001b[0;32m    207\u001b[0m \u001b[1;33m\u001b[0m\u001b[0m\n",
      "\u001b[1;31mValueError\u001b[0m: Found input variables with inconsistent numbers of samples: [560, 404]"
     ]
    }
   ],
   "source": [
    "# Estimating Housing prices with SVM\n",
    "\n",
    "import numpy as np\n",
    "from sklearn import datasets\n",
    "from sklearn.svm import SVR\n",
    "from sklearn.metrics import mean_squared_error, explained_variance_score\n",
    "from sklearn.utils import shuffle\n",
    "\n",
    "# Load housing data\n",
    "data = datasets.load_boston()\n",
    "\n",
    "# Shuffle the data\n",
    "X, y = shuffle(data.data, data.target, random_state = 7)\n",
    "\n",
    "# Split the data into training and test sets\n",
    "num_training = int(0.8*len(X))\n",
    "X_trian, y_train = X[:num_training], y[:num_training]\n",
    "X_test, y_test = X[num_training:],y[num_training:]\n",
    "\n",
    "# Create Support Vector Regressor\n",
    "# linear kernel is used \n",
    "# C-value = penalty for training error; The higher the C is, the fitter the model is to the training data\n",
    "# epsilon  = threshold; there is no penalty for training error if the predicted value is within this distance from the actual value\n",
    "\n",
    "sv_regressor = SVR(kernel = 'linear', C = 1.0, epsilon = 0.1)\n",
    "\n",
    "# Train Support Vecotr Regressor\n",
    "sv_regressor.fit(X_train, y_train)\n",
    "\n",
    "# Evaluate the performance of Support Vector Regressor\n",
    "y_test_pred = sv_regressor.predict(X_test) # Avval estimate ro dorost kon\n",
    "\n",
    "mse = mean_squared_error(y_test, y_test_pred)\n",
    "evs = explained_variance_score(y_test, y_test_pred)\n",
    "\n",
    "print(\"\\n###Performance###\")\n",
    "print(\"Mean squared error = \", round(mse,2))\n",
    "print(\"Explained variance error = \", round(evs,2))\n"
   ]
  },
  {
   "cell_type": "code",
   "execution_count": null,
   "metadata": {},
   "outputs": [],
   "source": []
  }
 ],
 "metadata": {
  "kernelspec": {
   "display_name": "Python 3",
   "language": "python",
   "name": "python3"
  },
  "language_info": {
   "codemirror_mode": {
    "name": "ipython",
    "version": 3
   },
   "file_extension": ".py",
   "mimetype": "text/x-python",
   "name": "python",
   "nbconvert_exporter": "python",
   "pygments_lexer": "ipython3",
   "version": "3.7.3"
  }
 },
 "nbformat": 4,
 "nbformat_minor": 2
}
